{
 "cells": [
  {
   "cell_type": "markdown",
   "metadata": {
    "collapsed": true
   },
   "source": [
    "# Generate Insights from multiple data sources using Watson Studio"
   ]
  },
  {
   "cell_type": "markdown",
   "metadata": {},
   "source": [
    "## 1. Setup\n",
    "To prepare your environment, you need to install some packages.\n",
    "\n",
    "### 1.1 Install the necessary packages\n",
    "\n",
    "You need the latest versions of these packages:<br>\n",
    "- ibm_db: This extension is the implementation of Python Database API.<br>\n",
    "- ibm-cos-sdk: This package allows Python developers to write software that interacts with IBM Cloud Object Storage.<br><br>\n",
    "\n",
    "** Install the ibm_db: **"
   ]
  },
  {
   "cell_type": "code",
   "execution_count": null,
   "metadata": {},
   "outputs": [],
   "source": [
    "!pip install ibm_db"
   ]
  },
  {
   "cell_type": "markdown",
   "metadata": {},
   "source": [
    "** Install the ibm-cos-sdk: **"
   ]
  },
  {
   "cell_type": "code",
   "execution_count": null,
   "metadata": {},
   "outputs": [],
   "source": [
    "!pip install ibm-cos-sdk"
   ]
  },
  {
   "cell_type": "markdown",
   "metadata": {},
   "source": [
    "### 1.2 Import packages and libraries\n",
    "\n",
    "Import the packages and libraries that you'll use:"
   ]
  },
  {
   "cell_type": "code",
   "execution_count": null,
   "metadata": {},
   "outputs": [],
   "source": [
    "import ibm_db\n",
    "import ibm_boto3\n",
    "from botocore.client import Config\n",
    "import pandas as pd"
   ]
  },
  {
   "cell_type": "markdown",
   "metadata": {},
   "source": [
    "## 2. Configuration\n",
    "\n",
    "Add configurable items of the notebook below"
   ]
  },
  {
   "cell_type": "markdown",
   "metadata": {},
   "source": [
    "### 2.1 Global Variables\n",
    "\n",
    "Add global variables."
   ]
  },
  {
   "cell_type": "code",
   "execution_count": null,
   "metadata": {},
   "outputs": [],
   "source": [
    "frames=[]"
   ]
  },
  {
   "cell_type": "markdown",
   "metadata": {},
   "source": [
    "### 2.2 Add the data from local system(csv file)\n",
    "\n",
    "Insert pandas DataFrame in the following cell and name it as <i><b>df1</b></i>"
   ]
  },
  {
   "cell_type": "code",
   "execution_count": null,
   "metadata": {},
   "outputs": [],
   "source": [
    "#Insert Manchester.csv credentials here."
   ]
  },
  {
   "cell_type": "code",
   "execution_count": null,
   "metadata": {},
   "outputs": [],
   "source": [
    "frames.append(df1)"
   ]
  },
  {
   "cell_type": "markdown",
   "metadata": {},
   "source": [
    "### 2.3 Add the data from Db2\n",
    "\n",
    "Insert pandas DataFrame in the following cell and name it as <i><b>df2</b></i>"
   ]
  },
  {
   "cell_type": "code",
   "execution_count": null,
   "metadata": {},
   "outputs": [],
   "source": [
    "#Insert Db2 connection credentials here."
   ]
  },
  {
   "cell_type": "code",
   "execution_count": null,
   "metadata": {},
   "outputs": [],
   "source": [
    "frames.append(df2)"
   ]
  },
  {
   "cell_type": "markdown",
   "metadata": {},
   "source": [
    "### 2.4 Integrate the data from csv file and Db2\n",
    "\n",
    "You must create Object Storage service on IBM Cloud.\n",
    "To access data in a file in Object Storage, you need the Object Storage authentication credentials.\n",
    "Insert the Object Storage authentication credentials as <i><b>credentials_1</b></i> in the following cell after \n",
    "removing the current contents in the cell. "
   ]
  },
  {
   "cell_type": "code",
   "execution_count": null,
   "metadata": {},
   "outputs": [],
   "source": [
    "result = pd.concat(frames, ignore_index=True)\n",
    "result"
   ]
  },
  {
   "cell_type": "markdown",
   "metadata": {},
   "source": [
    "### 2.5 Configure to the Db2 Warehouse\n",
    "\n",
    "Insert the connection credentials as <i><b>credentials_1</b></i> in the following cell after \n",
    "removing the current contents in the cell. "
   ]
  },
  {
   "cell_type": "code",
   "execution_count": null,
   "metadata": {},
   "outputs": [],
   "source": [
    "#Insert Db2 Warehouse credentials here."
   ]
  },
  {
   "cell_type": "code",
   "execution_count": null,
   "metadata": {},
   "outputs": [],
   "source": [
    "dsn_driver = \"IBM DB2 ODBC DRIVER\"\n",
    "dsn_database = credentials_1['database'] \n",
    "dsn_hostname = credentials_1['host']\n",
    "dsn_port = \"50000\"                \n",
    "dsn_uid = credentials_1['username']      \n",
    "dsn_pwd = credentials_1['password']\n",
    "\n",
    "dsn = (\n",
    "    \"DRIVER={{IBM DB2 ODBC DRIVER}};\"\n",
    "    \"DATABASE={0};\"\n",
    "    \"HOSTNAME={1};\"\n",
    "    \"PORT={2};\"\n",
    "    \"PROTOCOL=TCPIP;\"\n",
    "    \"UID={3};\"\n",
    "    \"PWD={4};\").format(dsn_database, dsn_hostname, dsn_port, dsn_uid, dsn_pwd)\n",
    "\n",
    "conn = ibm_db.connect(dsn, \"\", \"\")"
   ]
  },
  {
   "cell_type": "markdown",
   "metadata": {},
   "source": [
    "## 3. Send the data to Db2 Warehouse"
   ]
  },
  {
   "cell_type": "markdown",
   "metadata": {},
   "source": [
    " Note: Make sure you change the <b>table name</b> in the insert statement below."
   ]
  },
  {
   "cell_type": "code",
   "execution_count": null,
   "metadata": {},
   "outputs": [],
   "source": [
    "for index, row in result.iterrows():\n",
    "    print (row['YEAR'], row['TYPES OF WATCHES'], row['ORDER METHOD'], row['STORE LOCATION'], row['REVENUE GENERATED ($ USD)'], row['MANUFACTURING COST ($ USD)'], row['UNITS SOLD'], row['MANUFACTURING COST PER UNIT ($ USD)'], row['GROSS PROFIT ($ USD)'], row['UNIT SALE PRICE ($ USD)'])\n",
    "    print(\"-----------------------------------\")\n",
    "    a=\"\\'\"\n",
    "    w = a+row['TYPES OF WATCHES']+a\n",
    "    o = a+row['ORDER METHOD']+a\n",
    "    s = a+row['STORE LOCATION']+a\n",
    "    insert = 'INSERT INTO DASH5989.ALL VALUES(%s, %s, %s, %s, %s, %s, %s, %s, %s, %s)' %(row['YEAR'], w, o, s, row['REVENUE GENERATED ($ USD)'], row['MANUFACTURING COST ($ USD)'], row['UNITS SOLD'], row['MANUFACTURING COST PER UNIT ($ USD)'], row['GROSS PROFIT ($ USD)'], row['UNIT SALE PRICE ($ USD)'])\n",
    "    ibm_db.exec_immediate(conn, insert)"
   ]
  },
  {
   "cell_type": "code",
   "execution_count": null,
   "metadata": {},
   "outputs": [],
   "source": []
  }
 ],
 "metadata": {
  "kernelspec": {
   "display_name": "Python 3.5",
   "language": "python",
   "name": "python3"
  },
  "language_info": {
   "codemirror_mode": {
    "name": "ipython",
    "version": 3
   },
   "file_extension": ".py",
   "mimetype": "text/x-python",
   "name": "python",
   "nbconvert_exporter": "python",
   "pygments_lexer": "ipython3",
   "version": "3.5.5"
  }
 },
 "nbformat": 4,
 "nbformat_minor": 1
}
